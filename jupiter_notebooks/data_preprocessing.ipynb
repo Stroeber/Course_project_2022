{
 "cells": [
  {
   "cell_type": "code",
   "execution_count": 1,
   "metadata": {},
   "outputs": [],
   "source": [
    "import numpy as np\n",
    "import soundfile as sf\n",
    "import matplotlib.pyplot as plt\n",
    "import IPython.display as ipd\n",
    "import librosa\n",
    "import librosa.display\n",
    "import os"
   ]
  },
  {
   "cell_type": "code",
   "execution_count": 27,
   "metadata": {},
   "outputs": [],
   "source": [
    "def save_spec(audio_data, samplerate, filepath):\n",
    "    N_FFT = 1024         \n",
    "    HOP_SIZE = 1024       \n",
    "    N_MELS = 128            \n",
    "    WIN_SIZE = 1024      \n",
    "    WINDOW_TYPE = 'hann' \n",
    "    FEATURE = 'mel'      \n",
    "    FMIN = 1400 \n",
    "\n",
    "    S = librosa.feature.melspectrogram(y=audio_data,sr=samplerate,\n",
    "                                        n_fft=N_FFT,\n",
    "                                        hop_length=HOP_SIZE, \n",
    "                                        n_mels=N_MELS, \n",
    "                                        htk=True, \n",
    "                                        fmin=FMIN, \n",
    "                                        fmax=samplerate/2) \n",
    "    #turn off interactive mode, so the plots are not displayed when saved\n",
    "    plt.ioff()\n",
    "    plt.figure(figsize=(8, 2))\n",
    "    librosa.display.specshow(librosa.power_to_db(S**2,ref=np.max), fmin=FMIN,y_axis='linear')\n",
    "    plt.axis(\"off\")\n",
    "#     plt.colorbar(format='%+2.0f dB')\n",
    "    plt.savefig(filepath, format=\"png\", bbox_inches=\"tight\", pad_inches=0)\n",
    "    plt.close()\n",
    "#     plt.show()"
   ]
  },
  {
   "cell_type": "code",
   "execution_count": 3,
   "metadata": {},
   "outputs": [],
   "source": [
    "%matplotlib inline\n",
    "def print_plot_play(x, Fs, text=''):\n",
    "    \"\"\"1. Prints information about an audio singal, 2. plots the waveform, and 3. Creates player\n",
    "    \n",
    "    Notebook: C1/B_PythonAudio.ipynb\n",
    "    \n",
    "    Args: \n",
    "        x: Input signal\n",
    "        Fs: Sampling rate of x    \n",
    "        text: Text to print\n",
    "    \"\"\"\n",
    "    print('%s Fs = %d, x.shape = %s, x.dtype = %s' % (text, Fs, x.shape, x.dtype))\n",
    "    plt.figure(figsize=(8, 2))\n",
    "    plt.plot(x, color='gray')\n",
    "    sd = [np.std([i for i in x])] * len(x)\n",
    "    plt.plot(sd, color='red')\n",
    "    plt.xlim([0, x.shape[0]])\n",
    "    plt.xlabel('Time (samples)')\n",
    "    plt.ylabel('Amplitude')\n",
    "    plt.tight_layout()\n",
    "    plt.show()\n",
    "    ipd.display(ipd.Audio(data=x, rate=Fs))"
   ]
  },
  {
   "cell_type": "code",
   "execution_count": 4,
   "metadata": {},
   "outputs": [],
   "source": [
    "def find_calls(data, FS):\n",
    "    is_new = True\n",
    "    sd = np.std([i for i in data[:,0] if i > 0])\n",
    "    return_values = []\n",
    "    for idx, i in enumerate(data[:,0]):\n",
    "        if i > sd and is_new:\n",
    "            onset = idx-1000\n",
    "            is_new = False\n",
    "        if not is_new and idx-onset>(FS/4)-1000:\n",
    "            offset = idx\n",
    "            is_new = True\n",
    "            \n",
    "            return_values.append(data[onset:offset])\n",
    "            \n",
    "    return return_values\n",
    "#             print_plot_play(data[onset:offset], FS)\n",
    "#             plot_spec(data[onset:offset], FS)\n",
    "        "
   ]
  },
  {
   "cell_type": "code",
   "execution_count": 5,
   "metadata": {},
   "outputs": [],
   "source": [
    "def get_start_and_target_directory(start_path):\n",
    "    os.chdir(start_path)\n",
    "    os.chdir(\"..\")\n",
    "    os.chdir(\"data\")\n",
    "    os.chdir(\"data_processed\")\n",
    "    target_directory = os.fsencode(str(os.path.abspath(os.curdir)))\n",
    "    \n",
    "    os.chdir(\"..\")\n",
    "    os.chdir(\"data_raw\")\n",
    "    start_directory = os.fsencode(str(os.path.abspath(os.curdir)))\n",
    "    \n",
    "    return start_directory, target_directory"
   ]
  },
  {
   "cell_type": "code",
   "execution_count": 24,
   "metadata": {},
   "outputs": [],
   "source": [
    "def mk_target_call_dir(target_directory, call_name, filename):\n",
    "    os.chdir(TARGET_DIRECTORY)\n",
    "    if not os.path.exists(call_name):\n",
    "        os.mkdir(call_name)\n",
    "    os.chdir(call_name)\n",
    "    \n",
    "    target_call_directory = os.fsencode(str(os.path.abspath(os.curdir)))\n",
    "    target_filepath = os.path.join(target_call_directory, os.fsencode(filename))\n",
    "    \n",
    "    os.mkdir(target_filepath[:-4])\n",
    "    os.chdir(target_filepath[:-4])\n",
    "    \n",
    "    return os.fsencode(str(os.path.abspath(os.curdir)))"
   ]
  },
  {
   "cell_type": "code",
   "execution_count": 7,
   "metadata": {},
   "outputs": [],
   "source": [
    "def save_audio_spectro(audio_data, samplerate):\n",
    "    seperate_calls = find_calls(audio_data, samplerate)\n",
    "    os.mkdir(\"audio\")\n",
    "    os.mkdir(\"spectrogram\")\n",
    "    for index, call_data in enumerate(seperate_calls):\n",
    "                    \n",
    "        os.chdir(\"audio\")\n",
    "        sf.write(str(index)+\".wav\", call_data, samplerate)\n",
    "                    \n",
    "        os.chdir(\"..\")\n",
    "        os.chdir(\"spectrogram\")\n",
    "        save_spec(call_data[:,0], \n",
    "                    samplerate, \n",
    "                    str(index)+\".png\"\n",
    "                    )\n",
    "        os.chdir(\"..\")"
   ]
  },
  {
   "cell_type": "code",
   "execution_count": 28,
   "metadata": {
    "scrolled": true
   },
   "outputs": [],
   "source": [
    "names = [\"test_call\", \"test_call2\"]\n",
    "START_PATH = os.path.abspath(os.getcwd())\n",
    "try:\n",
    "    \n",
    "    START_DIRECTORY, TARGET_DIRECTORY = get_start_and_target_directory(START_PATH)\n",
    "    os.chdir(START_DIRECTORY)\n",
    "    \n",
    "    for call_name in names:\n",
    "        os.chdir(call_name)\n",
    "        file_directory = os.fsencode(os.path.abspath(os.curdir))\n",
    "        \n",
    "        for file in os.listdir(file_directory):\n",
    "            filename = os.fsdecode(file)\n",
    "            \n",
    "            if filename.endswith(\".wav\"):\n",
    "                filepath = os.path.join(file_directory, os.fsencode(filename))\n",
    "                audio_data, samplerate = sf.read(filepath)\n",
    "\n",
    "                target_filepath = mk_target_call_dir(TARGET_DIRECTORY, call_name, filename)\n",
    "                os.chdir(target_filepath)\n",
    "                \n",
    "                sf.write(\"original_\"+filename, audio_data, samplerate)\n",
    "                \n",
    "                save_audio_spectro(audio_data, samplerate)\n",
    "            \n",
    "        os.chdir(START_DIRECTORY)\n",
    "finally:\n",
    "    os.chdir(START_PATH)\n"
   ]
  }
 ],
 "metadata": {
  "kernelspec": {
   "display_name": "Python 3",
   "language": "python",
   "name": "python3"
  },
  "language_info": {
   "codemirror_mode": {
    "name": "ipython",
    "version": 3
   },
   "file_extension": ".py",
   "mimetype": "text/x-python",
   "name": "python",
   "nbconvert_exporter": "python",
   "pygments_lexer": "ipython3",
   "version": "3.7.9"
  }
 },
 "nbformat": 4,
 "nbformat_minor": 4
}
