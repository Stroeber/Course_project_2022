{
 "cells": [
  {
   "cell_type": "code",
   "execution_count": 1,
   "metadata": {},
   "outputs": [
    {
     "name": "stderr",
     "output_type": "stream",
     "text": [
      "/Users/maikvando/opt/anaconda3/envs/iannwtf/lib/python3.7/site-packages/pydub/utils.py:170: RuntimeWarning: Couldn't find ffmpeg or avconv - defaulting to ffmpeg, but may not work\n",
      "  warn(\"Couldn't find ffmpeg or avconv - defaulting to ffmpeg, but may not work\", RuntimeWarning)\n"
     ]
    }
   ],
   "source": [
    "import soundfile as sf\n",
    "from pydub import AudioSegment\n",
    "import os\n",
    "import numpy as np\n",
    "import matplotlib.pyplot as plt"
   ]
  },
  {
   "cell_type": "code",
   "execution_count": 8,
   "metadata": {},
   "outputs": [],
   "source": [
    "start = os.getcwd()\n",
    "os.chdir('Users')\n",
    "os.chdir('maikvando')\n",
    "os.chdir('Downloads')\n",
    "os.chdir('Raincalls_all')\n",
    "os.chdir('Raincall_wrüt')"
   ]
  },
  {
   "cell_type": "code",
   "execution_count": 10,
   "metadata": {},
   "outputs": [
    {
     "name": "stdout",
     "output_type": "stream",
     "text": [
      "439 Buchfink Regenrufe wrüt 25.3.2020 M_hsn..WAV\n",
      "439 Buchfink, M Regenruf 25.3.21 W.St., M_hsn.WAV\n",
      "439 Buchfink Rülschen-converted.wav\n",
      "Buchfink Regenruf_4277.wav\n",
      "Buchfink Regenruf__4278-converted.wav\n",
      "Error file:  Buchfink Regenruf__4278-converted.wav\n",
      "S 16 a Buchfink Regenruf wrüt-converted.wav\n",
      "Buchfink Regenruf__4278.wav\n",
      ".DS_Store\n",
      "Error file:  .DS_Store\n",
      "Buchfink Regenruf rülsch wenig im Bild_0017.wav\n",
      "439 Buchfink, RR + Luftfeindruf, 10.6.72 Mellnau.wav\n",
      "Buchfink Regenrufe Friaul nur Ton_6175.MOV.wav\n",
      "Buchfink wrüt groß gut _2279-converted.wav\n",
      "Error file:  Buchfink wrüt groß gut _2279-converted.wav\n",
      "Buchfink Regenruf rülsch2643-converted.wav\n",
      "Error file:  Buchfink Regenruf rülsch2643-converted.wav\n",
      "Buchfink regenruf kl 0775-converted.wav\n",
      "Error file:  Buchfink regenruf kl 0775-converted.wav\n",
      "Buchfink Regenruf_4277-converted.wav\n",
      "Error file:  Buchfink Regenruf_4277-converted.wav\n",
      "Buchfink Regenrufe 0774.MOV.wav\n",
      "Buchfink Regenruf rülsch_2642.wav\n",
      "439-R2-converted.wav\n",
      "Error file:  439-R2-converted.wav\n",
      "Buchfink Regenrufe 0774-converted.wav\n",
      "Error file:  Buchfink Regenrufe 0774-converted.wav\n",
      "Buchfink Regenruf.wav\n",
      "Buchfink wrüt groß gut _2279.MOV.wav\n",
      "439 Buchfink, schnelles Rülschen, 1.5.21 Arolsen.WAV\n",
      "Buchfink Regenruf gr am Boden laufend _3666-converted.wav\n",
      "Error file:  Buchfink Regenruf gr am Boden laufend _3666-converted.wav\n",
      "Buchfink Regenruf rülsch ng _2644.wav\n",
      "439 R2 Buchfink Regenruf wrüd 23.6.79 Schledehausen.WAV\n",
      "Buchfink Regenruf anders 1336-converted.wav\n",
      "Error file:  Buchfink Regenruf anders 1336-converted.wav\n",
      "Buchfink Regenruf rülsch wenig im Bild_0017-converted.wav\n",
      "Error file:  Buchfink Regenruf rülsch wenig im Bild_0017-converted.wav\n",
      "439 R2_Buchfink_Regenruf-converted.wav\n",
      "439 Buchfink, Luftfeindruf-converted.wav\n",
      "439 Buchfink Rülschen, 7.5.20, Arolsen.WAV\n",
      "Buchfink Regenruf rülsch_2642-converted.wav\n"
     ]
    },
    {
     "name": "stderr",
     "output_type": "stream",
     "text": [
      "/Users/maikvando/opt/anaconda3/envs/iannwtf/lib/python3.7/site-packages/pydub/utils.py:198: RuntimeWarning: Couldn't find ffprobe or avprobe - defaulting to ffprobe, but may not work\n",
      "  warn(\"Couldn't find ffprobe or avprobe - defaulting to ffprobe, but may not work\", RuntimeWarning)\n",
      "/Users/maikvando/opt/anaconda3/envs/iannwtf/lib/python3.7/site-packages/pydub/utils.py:198: RuntimeWarning: Couldn't find ffprobe or avprobe - defaulting to ffprobe, but may not work\n",
      "  warn(\"Couldn't find ffprobe or avprobe - defaulting to ffprobe, but may not work\", RuntimeWarning)\n",
      "/Users/maikvando/opt/anaconda3/envs/iannwtf/lib/python3.7/site-packages/pydub/utils.py:198: RuntimeWarning: Couldn't find ffprobe or avprobe - defaulting to ffprobe, but may not work\n",
      "  warn(\"Couldn't find ffprobe or avprobe - defaulting to ffprobe, but may not work\", RuntimeWarning)\n",
      "/Users/maikvando/opt/anaconda3/envs/iannwtf/lib/python3.7/site-packages/pydub/utils.py:198: RuntimeWarning: Couldn't find ffprobe or avprobe - defaulting to ffprobe, but may not work\n",
      "  warn(\"Couldn't find ffprobe or avprobe - defaulting to ffprobe, but may not work\", RuntimeWarning)\n",
      "/Users/maikvando/opt/anaconda3/envs/iannwtf/lib/python3.7/site-packages/pydub/utils.py:198: RuntimeWarning: Couldn't find ffprobe or avprobe - defaulting to ffprobe, but may not work\n",
      "  warn(\"Couldn't find ffprobe or avprobe - defaulting to ffprobe, but may not work\", RuntimeWarning)\n",
      "/Users/maikvando/opt/anaconda3/envs/iannwtf/lib/python3.7/site-packages/pydub/utils.py:198: RuntimeWarning: Couldn't find ffprobe or avprobe - defaulting to ffprobe, but may not work\n",
      "  warn(\"Couldn't find ffprobe or avprobe - defaulting to ffprobe, but may not work\", RuntimeWarning)\n",
      "/Users/maikvando/opt/anaconda3/envs/iannwtf/lib/python3.7/site-packages/pydub/utils.py:198: RuntimeWarning: Couldn't find ffprobe or avprobe - defaulting to ffprobe, but may not work\n",
      "  warn(\"Couldn't find ffprobe or avprobe - defaulting to ffprobe, but may not work\", RuntimeWarning)\n",
      "/Users/maikvando/opt/anaconda3/envs/iannwtf/lib/python3.7/site-packages/pydub/utils.py:198: RuntimeWarning: Couldn't find ffprobe or avprobe - defaulting to ffprobe, but may not work\n",
      "  warn(\"Couldn't find ffprobe or avprobe - defaulting to ffprobe, but may not work\", RuntimeWarning)\n",
      "/Users/maikvando/opt/anaconda3/envs/iannwtf/lib/python3.7/site-packages/pydub/utils.py:198: RuntimeWarning: Couldn't find ffprobe or avprobe - defaulting to ffprobe, but may not work\n",
      "  warn(\"Couldn't find ffprobe or avprobe - defaulting to ffprobe, but may not work\", RuntimeWarning)\n",
      "/Users/maikvando/opt/anaconda3/envs/iannwtf/lib/python3.7/site-packages/pydub/utils.py:198: RuntimeWarning: Couldn't find ffprobe or avprobe - defaulting to ffprobe, but may not work\n",
      "  warn(\"Couldn't find ffprobe or avprobe - defaulting to ffprobe, but may not work\", RuntimeWarning)\n",
      "/Users/maikvando/opt/anaconda3/envs/iannwtf/lib/python3.7/site-packages/pydub/utils.py:198: RuntimeWarning: Couldn't find ffprobe or avprobe - defaulting to ffprobe, but may not work\n",
      "  warn(\"Couldn't find ffprobe or avprobe - defaulting to ffprobe, but may not work\", RuntimeWarning)\n",
      "/Users/maikvando/opt/anaconda3/envs/iannwtf/lib/python3.7/site-packages/pydub/utils.py:198: RuntimeWarning: Couldn't find ffprobe or avprobe - defaulting to ffprobe, but may not work\n",
      "  warn(\"Couldn't find ffprobe or avprobe - defaulting to ffprobe, but may not work\", RuntimeWarning)\n",
      "/Users/maikvando/opt/anaconda3/envs/iannwtf/lib/python3.7/site-packages/pydub/utils.py:198: RuntimeWarning: Couldn't find ffprobe or avprobe - defaulting to ffprobe, but may not work\n",
      "  warn(\"Couldn't find ffprobe or avprobe - defaulting to ffprobe, but may not work\", RuntimeWarning)\n"
     ]
    },
    {
     "name": "stdout",
     "output_type": "stream",
     "text": [
      "Error file:  Buchfink Regenruf rülsch_2642-converted.wav\n",
      "Buchfink Regenruf rülsch2643.wav\n",
      "Buchfink Regenruf rülsch ng _2644-converted.wav\n",
      "Error file:  Buchfink Regenruf rülsch ng _2644-converted.wav\n",
      "439-R2 2-converted.wav\n",
      "Error file:  439-R2 2-converted.wav\n",
      "Buchfink Regenruf nur Ton 3576-converted.wav\n",
      "Error file:  Buchfink Regenruf nur Ton 3576-converted.wav\n",
      "Buchfink Regenruf am Boden im Schnee_3675-converted.wav\n",
      "Error file:  Buchfink Regenruf am Boden im Schnee_3675-converted.wav\n",
      "439 Buchfink RR wrüt 6.4.82 Astrup,Belm.wav\n",
      "Buchfink wrüt pink ganz groß_6064-converted.wav\n",
      "Error file:  Buchfink wrüt pink ganz groß_6064-converted.wav\n",
      "Buchfink Regenruf am Boden laufend _3667-converted.wav\n",
      "Error file:  Buchfink Regenruf am Boden laufend _3667-converted.wav\n",
      "wrüt Buchfink3-converted.wav\n",
      "Error file:  wrüt Buchfink3-converted.wav\n",
      "118 Buchfink Regenruf wrüt-converted.wav\n",
      "Converted:  0\n"
     ]
    },
    {
     "name": "stderr",
     "output_type": "stream",
     "text": [
      "/Users/maikvando/opt/anaconda3/envs/iannwtf/lib/python3.7/site-packages/pydub/utils.py:198: RuntimeWarning: Couldn't find ffprobe or avprobe - defaulting to ffprobe, but may not work\n",
      "  warn(\"Couldn't find ffprobe or avprobe - defaulting to ffprobe, but may not work\", RuntimeWarning)\n",
      "/Users/maikvando/opt/anaconda3/envs/iannwtf/lib/python3.7/site-packages/pydub/utils.py:198: RuntimeWarning: Couldn't find ffprobe or avprobe - defaulting to ffprobe, but may not work\n",
      "  warn(\"Couldn't find ffprobe or avprobe - defaulting to ffprobe, but may not work\", RuntimeWarning)\n",
      "/Users/maikvando/opt/anaconda3/envs/iannwtf/lib/python3.7/site-packages/pydub/utils.py:198: RuntimeWarning: Couldn't find ffprobe or avprobe - defaulting to ffprobe, but may not work\n",
      "  warn(\"Couldn't find ffprobe or avprobe - defaulting to ffprobe, but may not work\", RuntimeWarning)\n",
      "/Users/maikvando/opt/anaconda3/envs/iannwtf/lib/python3.7/site-packages/pydub/utils.py:198: RuntimeWarning: Couldn't find ffprobe or avprobe - defaulting to ffprobe, but may not work\n",
      "  warn(\"Couldn't find ffprobe or avprobe - defaulting to ffprobe, but may not work\", RuntimeWarning)\n",
      "/Users/maikvando/opt/anaconda3/envs/iannwtf/lib/python3.7/site-packages/pydub/utils.py:198: RuntimeWarning: Couldn't find ffprobe or avprobe - defaulting to ffprobe, but may not work\n",
      "  warn(\"Couldn't find ffprobe or avprobe - defaulting to ffprobe, but may not work\", RuntimeWarning)\n",
      "/Users/maikvando/opt/anaconda3/envs/iannwtf/lib/python3.7/site-packages/pydub/utils.py:198: RuntimeWarning: Couldn't find ffprobe or avprobe - defaulting to ffprobe, but may not work\n",
      "  warn(\"Couldn't find ffprobe or avprobe - defaulting to ffprobe, but may not work\", RuntimeWarning)\n"
     ]
    }
   ],
   "source": [
    "converted = 0\n",
    "for file in os.listdir(os.getcwd()):\n",
    "    print(file)\n",
    "    try:\n",
    "        sound = AudioSegment.from_wav(os.path.join(os.getcwd(), file))\n",
    "    except:\n",
    "        print('Error file: ', file)\n",
    "\n",
    "    if sound.channels == 2:\n",
    "        sound = sound.set_channels(1)\n",
    "        os.remove(file)\n",
    "        sound.export(os.path.join(os.getcwd(), file), format = 'wav')\n",
    "        converted += 1\n",
    "\n",
    "print('Converted: ', converted)"
   ]
  },
  {
   "cell_type": "code",
   "execution_count": null,
   "metadata": {},
   "outputs": [],
   "source": []
  }
 ],
 "metadata": {
  "interpreter": {
   "hash": "333c861d1a7b6ea0edc9d21f00485d6057fa73ff2099925534ea33746ddca1fa"
  },
  "kernelspec": {
   "display_name": "Python 3.7.11 64-bit ('iannwtf': conda)",
   "name": "python3"
  },
  "language_info": {
   "codemirror_mode": {
    "name": "ipython",
    "version": 3
   },
   "file_extension": ".py",
   "mimetype": "text/x-python",
   "name": "python",
   "nbconvert_exporter": "python",
   "pygments_lexer": "ipython3",
   "version": "3.7.11"
  },
  "orig_nbformat": 4
 },
 "nbformat": 4,
 "nbformat_minor": 2
}
